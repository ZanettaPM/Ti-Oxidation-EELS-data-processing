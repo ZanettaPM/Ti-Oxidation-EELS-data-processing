{
 "cells": [
  {
   "cell_type": "code",
   "execution_count": 2,
   "metadata": {},
   "outputs": [],
   "source": [
    "%matplotlib qt\n",
    "import numpy as np\n",
    "import matplotlib.pyplot as plt\n",
    "import hyperspy.api as hs\n",
    "import h5py as hy"
   ]
  },
  {
   "cell_type": "code",
   "execution_count": 5,
   "metadata": {},
   "outputs": [],
   "source": [
    "hl=hs.load(\"Ti 0.025 evperc/EELS Spectrum Image (high-loss).dm4\")\n",
    "ll=hs.load('Ti 0.025 evperc\\EELS Spectrum Image (low-loss).dm4',signal_type='EELS')"
   ]
  },
  {
   "cell_type": "code",
   "execution_count": 6,
   "metadata": {},
   "outputs": [],
   "source": [
    "hlc=hs.load('C 0.025 evperc\\EELS Spectrum Image (high-loss).dm4',signal_type='EELS')\n",
    "llc=hs.load('C 0.025 evperc\\EELS Spectrum Image (low-loss).dm4',signal_type='EELS')"
   ]
  },
  {
   "cell_type": "code",
   "execution_count": 7,
   "metadata": {},
   "outputs": [
    {
     "data": {
      "text/plain": [
       "├── Acquisition_instrument\n",
       "│   └── TEM\n",
       "│       ├── Detector\n",
       "│       │   └── EELS\n",
       "│       │       ├── aperture_size = 2.5\n",
       "│       │       ├── collection_angle = 100.0\n",
       "│       │       ├── dwell_time = 9.995002498750624\n",
       "│       │       ├── frame_number = 1\n",
       "│       │       └── spectrometer = GIF Quantum ER\n",
       "│       ├── Stage\n",
       "│       │   ├── tilt_alpha = 0.3\n",
       "│       │   ├── tilt_beta = 0.0\n",
       "│       │   ├── x = 0.0045000000000000005\n",
       "│       │   └── y = 0.0068000000000000005\n",
       "│       ├── acquisition_mode = STEM\n",
       "│       ├── beam_current = 0.0\n",
       "│       ├── beam_energy = 200.0\n",
       "│       ├── camera_length = 0.0\n",
       "│       ├── convergence_angle = 0.0\n",
       "│       ├── magnification = 50000.0\n",
       "│       └── microscope = HF5000\n",
       "├── General\n",
       "│   ├── authors = PM and Jerry\n",
       "│   ├── date = 2020-03-10\n",
       "│   ├── original_filename = EELS Spectrum Image (high-loss).dm4\n",
       "│   ├── time = 14:49:45\n",
       "│   └── title = EELS Spectrum Image (high-loss)\n",
       "├── Sample\n",
       "│   └── description = Titanium oxide\n",
       "└── Signal\n",
       "    ├── Noise_properties\n",
       "    │   └── Variance_linear_model\n",
       "    │       ├── gain_factor = 1.0\n",
       "    │       └── gain_offset = 0.0\n",
       "    ├── binned = True\n",
       "    ├── quantity = Intensity (Counts)\n",
       "    └── signal_type = EELS"
      ]
     },
     "execution_count": 7,
     "metadata": {},
     "output_type": "execute_result"
    }
   ],
   "source": [
    "hl.metadata"
   ]
  },
  {
   "cell_type": "code",
   "execution_count": 8,
   "metadata": {},
   "outputs": [
    {
     "data": {
      "text/plain": [
       "├── Acquisition_instrument\n",
       "│   └── TEM\n",
       "│       ├── Detector\n",
       "│       │   └── EELS\n",
       "│       │       ├── aperture_size = 2.5\n",
       "│       │       ├── collection_angle = 100.0\n",
       "│       │       ├── dwell_time = 9.995002498750624\n",
       "│       │       ├── frame_number = 1\n",
       "│       │       └── spectrometer = GIF Quantum ER\n",
       "│       ├── Stage\n",
       "│       │   ├── tilt_alpha = 0.3\n",
       "│       │   ├── tilt_beta = 0.0\n",
       "│       │   ├── x = 0.0045000000000000005\n",
       "│       │   └── y = 0.0068000000000000005\n",
       "│       ├── acquisition_mode = STEM\n",
       "│       ├── beam_current = 0.0\n",
       "│       ├── beam_energy = 200.0\n",
       "│       ├── camera_length = 0.0\n",
       "│       ├── convergence_angle = 0.0\n",
       "│       ├── magnification = 50000.0\n",
       "│       └── microscope = HF5000\n",
       "├── General\n",
       "│   ├── authors = PM and Jerry\n",
       "│   ├── date = 2020-03-10\n",
       "│   ├── original_filename = EELS Spectrum Image (high-loss).dm4\n",
       "│   ├── time = 15:05:49\n",
       "│   └── title = EELS Spectrum Image (high-loss)\n",
       "├── Sample\n",
       "│   └── description = Titanium oxide\n",
       "└── Signal\n",
       "    ├── Noise_properties\n",
       "    │   └── Variance_linear_model\n",
       "    │       ├── gain_factor = 1.0\n",
       "    │       └── gain_offset = 0.0\n",
       "    ├── binned = True\n",
       "    ├── quantity = Intensity (Counts)\n",
       "    └── signal_type = EELS"
      ]
     },
     "execution_count": 8,
     "metadata": {},
     "output_type": "execute_result"
    }
   ],
   "source": [
    "hlc.metadata"
   ]
  },
  {
   "cell_type": "code",
   "execution_count": 9,
   "metadata": {},
   "outputs": [],
   "source": [
    "hlc.plot()\n",
    "llc.plot()"
   ]
  },
  {
   "cell_type": "code",
   "execution_count": 10,
   "metadata": {},
   "outputs": [],
   "source": [
    "x=hlc.data>10000 ### allow to remove the gost peak or the noise\n",
    "hlc.data[x]=0\n",
    "hlc.plot()"
   ]
  },
  {
   "cell_type": "code",
   "execution_count": 11,
   "metadata": {
    "scrolled": true
   },
   "outputs": [
    {
     "name": "stdout",
     "output_type": "stream",
     "text": [
      "\n",
      "Initial ZLP position statistics\n",
      "-------------------------------\n",
      "Summary statistics\n",
      "------------------\n",
      "mean:\t-3.54\n",
      "std:\t0.201\n",
      "\n",
      "min:\t-4\n",
      "Q1:\t-3.68\n",
      "median:\t-3.58\n",
      "Q3:\t-3.4\n",
      "max:\t-3.05\n"
     ]
    },
    {
     "data": {
      "application/vnd.jupyter.widget-view+json": {
       "model_id": "e33f2bc13acd4e6e8551a272de1c37ff",
       "version_major": 2,
       "version_minor": 0
      },
      "text/plain": [
       "HBox(children=(IntProgress(value=0, max=60), HTML(value='')))"
      ]
     },
     "metadata": {},
     "output_type": "display_data"
    },
    {
     "name": "stdout",
     "output_type": "stream",
     "text": [
      "\n"
     ]
    },
    {
     "data": {
      "application/vnd.jupyter.widget-view+json": {
       "model_id": "45645945bc08423bb1fcc8abaf7df7b9",
       "version_major": 2,
       "version_minor": 0
      },
      "text/plain": [
       "HBox(children=(IntProgress(value=0, max=60), HTML(value='')))"
      ]
     },
     "metadata": {},
     "output_type": "display_data"
    },
    {
     "name": "stdout",
     "output_type": "stream",
     "text": [
      "\n"
     ]
    },
    {
     "data": {
      "application/vnd.jupyter.widget-view+json": {
       "model_id": "f140dbc2e17e44c5bd270e6c10ae7275",
       "version_major": 2,
       "version_minor": 0
      },
      "text/plain": [
       "HBox(children=(IntProgress(value=0, max=60), HTML(value='')))"
      ]
     },
     "metadata": {},
     "output_type": "display_data"
    },
    {
     "data": {
      "application/vnd.jupyter.widget-view+json": {
       "model_id": "17e2831e11a1418fa55791d4bf05041f",
       "version_major": 2,
       "version_minor": 0
      },
      "text/plain": [
       "HBox(children=(IntProgress(value=0, max=60), HTML(value='')))"
      ]
     },
     "metadata": {},
     "output_type": "display_data"
    },
    {
     "name": "stdout",
     "output_type": "stream",
     "text": [
      "\n",
      "\n"
     ]
    },
    {
     "data": {
      "application/vnd.jupyter.widget-view+json": {
       "model_id": "0982b6a351924ab7aa6b8386f2d8da34",
       "version_major": 2,
       "version_minor": 0
      },
      "text/plain": [
       "HBox(children=(IntProgress(value=0, max=60), HTML(value='')))"
      ]
     },
     "metadata": {},
     "output_type": "display_data"
    },
    {
     "name": "stdout",
     "output_type": "stream",
     "text": [
      "\n"
     ]
    }
   ],
   "source": [
    "llc.align_zero_loss_peak(also_align=[hlc],calibrate=True)"
   ]
  },
  {
   "cell_type": "code",
   "execution_count": 12,
   "metadata": {},
   "outputs": [
    {
     "data": {
      "text/plain": [
       "<EELSSpectrum, title: EELS Spectrum Image (high-loss), dimensions: (10, 6|2006)>"
      ]
     },
     "execution_count": 12,
     "metadata": {},
     "output_type": "execute_result"
    }
   ],
   "source": [
    "hlc"
   ]
  },
  {
   "cell_type": "code",
   "execution_count": 17,
   "metadata": {},
   "outputs": [],
   "source": [
    "hlc=hlc.mean()\n",
    "llc=llc.mean()\n",
    "hlc=hlc.rebin([2006/2])\n",
    "llc=llc.rebin([2006/2])"
   ]
  },
  {
   "cell_type": "code",
   "execution_count": 11,
   "metadata": {},
   "outputs": [],
   "source": [
    "hlc.plot()\n",
    "llc.plot()"
   ]
  },
  {
   "cell_type": "code",
   "execution_count": 18,
   "metadata": {},
   "outputs": [
    {
     "name": "stdout",
     "output_type": "stream",
     "text": [
      "\n",
      "Initial ZLP position statistics\n",
      "-------------------------------\n",
      "Summary statistics\n",
      "------------------\n",
      "mean:\t0.00583\n",
      "std:\t0\n",
      "\n",
      "min:\t0.00583\n",
      "Q1:\t0.00583\n",
      "median:\t0.00583\n",
      "Q3:\t0.00583\n",
      "max:\t0.00583\n"
     ]
    }
   ],
   "source": [
    "ll.align_zero_loss_peak(also_align=[hl],calibrate=True)"
   ]
  },
  {
   "cell_type": "code",
   "execution_count": 19,
   "metadata": {},
   "outputs": [],
   "source": [
    "ll.plot()\n",
    "hl.plot()"
   ]
  },
  {
   "cell_type": "code",
   "execution_count": 20,
   "metadata": {},
   "outputs": [],
   "source": [
    "hl=hl.mean()\n",
    "ll=ll.mean()"
   ]
  },
  {
   "cell_type": "code",
   "execution_count": 15,
   "metadata": {},
   "outputs": [
    {
     "data": {
      "text/plain": [
       "<EELSSpectrum, title: EELS Spectrum Image (high-loss), dimensions: (|1995)>"
      ]
     },
     "execution_count": 15,
     "metadata": {},
     "output_type": "execute_result"
    }
   ],
   "source": [
    "hl"
   ]
  },
  {
   "cell_type": "code",
   "execution_count": 21,
   "metadata": {},
   "outputs": [],
   "source": [
    "hl=hl.rebin([1995/2])\n",
    "ll=ll.rebin([1995/2])"
   ]
  },
  {
   "cell_type": "code",
   "execution_count": 22,
   "metadata": {},
   "outputs": [],
   "source": [
    "a=hlc.axes_manager[\"Energy loss\"].offset\n",
    "b=llc.axes_manager[\"Energy loss\"].offset+llc.axes_manager[\"Energy loss\"].scale*llc.axes_manager['Energy loss'].size\n",
    "c=(a-b)/hlc.axes_manager[\"Energy loss\"].scale\n",
    "t=np.zeros((llc.axes_manager['Energy loss'].size+hlc.axes_manager['Energy loss'].size+int(c)))"
   ]
  },
  {
   "cell_type": "code",
   "execution_count": 23,
   "metadata": {},
   "outputs": [],
   "source": [
    "t[0:llc.axes_manager['Energy loss'].size]=llc.data\n",
    "d=int(llc.axes_manager['Energy loss'].size+c)\n",
    "t[d:]=hlc.data"
   ]
  },
  {
   "cell_type": "code",
   "execution_count": 24,
   "metadata": {},
   "outputs": [],
   "source": [
    "t=hs.signals.EELSSpectrum(t)\n",
    "t.axes_manager[-1].name='Energy loss'\n",
    "t.axes_manager['Energy loss'].scale=llc.axes_manager[\"Energy loss\"].scale\n",
    "t.axes_manager['Energy loss'].offset=llc.axes_manager[\"Energy loss\"].offset"
   ]
  },
  {
   "cell_type": "code",
   "execution_count": 25,
   "metadata": {},
   "outputs": [],
   "source": [
    "t2=t.isig[0.:]\n",
    "t2.plot()"
   ]
  },
  {
   "cell_type": "code",
   "execution_count": 26,
   "metadata": {},
   "outputs": [],
   "source": [
    "hlc.plot()"
   ]
  },
  {
   "cell_type": "code",
   "execution_count": 27,
   "metadata": {},
   "outputs": [],
   "source": [
    "a=hl.axes_manager[\"Energy loss\"].offset\n",
    "b=ll.axes_manager[\"Energy loss\"].offset+hl.axes_manager[\"Energy loss\"].scale*ll.axes_manager['Energy loss'].size\n",
    "c=(a-b)/hl.axes_manager[\"Energy loss\"].scale\n",
    "u=np.zeros((2*ll.axes_manager['Energy loss'].size+int(c)))"
   ]
  },
  {
   "cell_type": "code",
   "execution_count": 28,
   "metadata": {},
   "outputs": [],
   "source": [
    "u[0:ll.axes_manager['Energy loss'].size]=ll.data\n",
    "d=int(ll.axes_manager['Energy loss'].size+c)\n",
    "u[d:]=hl.data"
   ]
  },
  {
   "cell_type": "code",
   "execution_count": 29,
   "metadata": {},
   "outputs": [],
   "source": [
    "u=hs.signals.EELSSpectrum(u)\n",
    "u.axes_manager[-1].name='Energy loss'\n",
    "u.axes_manager['Energy loss'].scale=ll.axes_manager[\"Energy loss\"].scale\n",
    "u.axes_manager['Energy loss'].offset=ll.axes_manager[\"Energy loss\"].offset"
   ]
  },
  {
   "cell_type": "code",
   "execution_count": 30,
   "metadata": {},
   "outputs": [],
   "source": [
    "u2=u.isig[0.:]\n",
    "u2.plot()"
   ]
  },
  {
   "cell_type": "code",
   "execution_count": 31,
   "metadata": {},
   "outputs": [
    {
     "name": "stdout",
     "output_type": "stream",
     "text": [
      "max sigma peak = [298.26292111]\n",
      "max Pi peak = [286.51292094]\n",
      "offset = [-1.51292094]\n"
     ]
    }
   ],
   "source": [
    "a=270\n",
    "b=310\n",
    "sigma_peak=t2.isig[float(a):float(b)].valuemax(axis=-1).data\n",
    "a=round(float(sigma_peak-20))\n",
    "b=round(float(sigma_peak-10))\n",
    "p_peak=t2.isig[float(a):float(b)].valuemax(axis=-1).data\n",
    "offset=285-p_peak\n",
    "print('max sigma peak =',sigma_peak)\n",
    "print('max Pi peak =', p_peak)\n",
    "print('offset =',offset)"
   ]
  },
  {
   "cell_type": "code",
   "execution_count": 34,
   "metadata": {},
   "outputs": [],
   "source": [
    "m=t2.isig[270.:300.].create_model(auto_background=False)"
   ]
  },
  {
   "cell_type": "code",
   "execution_count": 35,
   "metadata": {},
   "outputs": [],
   "source": [
    "g1 = hs.model.components1D.Lorentzian()\n",
    "g2 = hs.model.components1D.Gaussian()\n",
    "g3 = hs.model.components1D.Gaussian()\n",
    "m.append(g1)\n",
    "m.append(g2)\n",
    "m.append(g3)"
   ]
  },
  {
   "cell_type": "code",
   "execution_count": 36,
   "metadata": {},
   "outputs": [
    {
     "name": "stderr",
     "output_type": "stream",
     "text": [
      "C:\\ProgramData\\Anaconda3\\lib\\site-packages\\hyperspy\\component.py:50: FutureWarning: elementwise comparison failed; returning scalar instead, but in the future will perform elementwise comparison\n",
      "  if value == \"None\" or value == b\"None\":\n"
     ]
    }
   ],
   "source": [
    "m.components.Lorentzian.gamma.value=1\n",
    "m.components.Lorentzian.centre.value=p_peak\n",
    "m.components.Lorentzian.A.value=316138.33\n",
    "m.components.Lorentzian.centre.bmax=p_peak+2\n",
    "m.components.Lorentzian.centre.bmax=p_peak\n",
    "m.components.Lorentzian.set_parameters_not_free(parameter_name_list=('gamma'))\n",
    "\n",
    "m.components.Gaussian.sigma.value=3.55\n",
    "m.components.Gaussian.centre.value=p_peak+8.16\n",
    "m.components.Gaussian.A.value=2120075.25\n",
    "m.components.Gaussian.set_parameters_not_free(parameter_name_list=('sigma','centre'))\n",
    "\n",
    "\n",
    "m.components.Gaussian_0.sigma.value=1.69\n",
    "m.components.Gaussian_0.centre.value=p_peak+1.00049573\n",
    "m.components.Gaussian_0.set_parameters_not_free(parameter_name_list=('sigma','centre'))\n",
    "# m.components.Gaussian_0.A.bmax=m.components.Lorentzian.A.value/2"
   ]
  },
  {
   "cell_type": "code",
   "execution_count": 40,
   "metadata": {},
   "outputs": [],
   "source": [
    "m.set_signal_range(284.,296.)# need to be set "
   ]
  },
  {
   "cell_type": "code",
   "execution_count": 41,
   "metadata": {},
   "outputs": [],
   "source": [
    "m.fit(bounded=True)"
   ]
  },
  {
   "cell_type": "code",
   "execution_count": 42,
   "metadata": {},
   "outputs": [],
   "source": [
    "m.plot(True)"
   ]
  },
  {
   "cell_type": "code",
   "execution_count": 43,
   "metadata": {},
   "outputs": [
    {
     "name": "stdout",
     "output_type": "stream",
     "text": [
      "max sigma peak = [298.26292111]\n",
      "max Pi peak = [286.56292094]\n",
      "offset = [-1.56292094]\n"
     ]
    }
   ],
   "source": [
    "x=m.as_signal()\n",
    "a=float(m.components.Lorentzian.centre.value-3)\n",
    "b=float(m.components.Lorentzian.centre.value+3)\n",
    "\n",
    "p_peak=x.isig[a:b].valuemax(axis=-1).data\n",
    "sigma_peaka=m.components.Gaussian.centre.value\n",
    "offset=285-p_peak\n",
    "print('max sigma peak =',sigma_peak)\n",
    "print('max Pi peak =', p_peak)\n",
    "print('offset =',offset)"
   ]
  },
  {
   "cell_type": "code",
   "execution_count": 44,
   "metadata": {},
   "outputs": [
    {
     "name": "stdout",
     "output_type": "stream",
     "text": [
      "[0.04972729]\n",
      "[0.04972729]\n"
     ]
    }
   ],
   "source": [
    "a=(285-t2.axes_manager[\"Energy loss\"].offset)/(p_peak-t2.axes_manager[\"Energy loss\"].offset)\n",
    "new_scale_c=a*t2.axes_manager[\"Energy loss\"].scale\n",
    "new_scale_Ti=a*u2.axes_manager[\"Energy loss\"].scale\n",
    "print(new_scale_c)\n",
    "print(new_scale_Ti)"
   ]
  },
  {
   "cell_type": "code",
   "execution_count": 45,
   "metadata": {},
   "outputs": [],
   "source": [
    "u2.axes_manager[\"Energy loss\"].scale=float(new_scale_Ti)\n",
    "t2.axes_manager[\"Energy loss\"].scale=float(new_scale_c)"
   ]
  },
  {
   "cell_type": "code",
   "execution_count": 46,
   "metadata": {},
   "outputs": [],
   "source": [
    "t2.plot()"
   ]
  },
  {
   "cell_type": "markdown",
   "metadata": {},
   "source": [
    "Après la calibration on recoupe les signaux"
   ]
  },
  {
   "cell_type": "code",
   "execution_count": 47,
   "metadata": {},
   "outputs": [],
   "source": [
    "hl2=u2.isig[440.:480.]\n",
    "ll2=u2.isig[0.:40.]\n",
    "hlc2=t2.isig[270.:310.]\n",
    "llc2=t2.isig[0.:40.]"
   ]
  },
  {
   "cell_type": "code",
   "execution_count": 48,
   "metadata": {},
   "outputs": [],
   "source": [
    "hl2.plot()"
   ]
  },
  {
   "cell_type": "code",
   "execution_count": 49,
   "metadata": {},
   "outputs": [
    {
     "data": {
      "application/vnd.jupyter.widget-view+json": {
       "model_id": "e83823216909424dad8c16d8c13b04f0",
       "version_major": 2,
       "version_minor": 0
      },
      "text/plain": [
       "VBox(children=(FloatText(value=nan, description='Left', disabled=True), FloatText(value=nan, description='Righ…"
      ]
     },
     "metadata": {},
     "output_type": "display_data"
    }
   ],
   "source": [
    "hl2.remove_background(fast=False)"
   ]
  },
  {
   "cell_type": "code",
   "execution_count": 50,
   "metadata": {},
   "outputs": [
    {
     "data": {
      "application/vnd.jupyter.widget-view+json": {
       "model_id": "989dc4d29a7a46318f7e074921ae0d68",
       "version_major": 2,
       "version_minor": 0
      },
      "text/plain": [
       "VBox(children=(FloatText(value=nan, description='Left', disabled=True), FloatText(value=nan, description='Righ…"
      ]
     },
     "metadata": {},
     "output_type": "display_data"
    }
   ],
   "source": [
    "hlc2.remove_background(fast=False)"
   ]
  },
  {
   "cell_type": "code",
   "execution_count": 51,
   "metadata": {},
   "outputs": [
    {
     "name": "stderr",
     "output_type": "stream",
     "text": [
      "C:\\ProgramData\\Anaconda3\\lib\\site-packages\\hyperspy\\_components\\power_law.py:147: RuntimeWarning: invalid value encountered in log\n",
      "  r = 2 * log(I1 / I2) / log(x2 / x1)\n"
     ]
    },
    {
     "data": {
      "application/vnd.jupyter.widget-view+json": {
       "model_id": "1e98dd9b40ba46d7a8c8a944d7bc18e3",
       "version_major": 2,
       "version_minor": 0
      },
      "text/plain": [
       "HBox(children=(IntProgress(value=0, max=1), HTML(value='')))"
      ]
     },
     "metadata": {},
     "output_type": "display_data"
    },
    {
     "name": "stdout",
     "output_type": "stream",
     "text": [
      "\n"
     ]
    },
    {
     "data": {
      "application/vnd.jupyter.widget-view+json": {
       "model_id": "6476e6b0e02d47e58a9df2cadb02ea58",
       "version_major": 2,
       "version_minor": 0
      },
      "text/plain": [
       "HBox(children=(IntProgress(value=0, max=1), HTML(value='')))"
      ]
     },
     "metadata": {},
     "output_type": "display_data"
    }
   ],
   "source": [
    "hlc3=hlc2.fourier_ratio_deconvolution(ll=llc)\n",
    "hl3=hl2.fourier_ratio_deconvolution(ll=ll,extrapolate_coreloss=False)"
   ]
  },
  {
   "cell_type": "code",
   "execution_count": 315,
   "metadata": {},
   "outputs": [],
   "source": [
    "# hl2=hl/np.max(hl().data)"
   ]
  },
  {
   "cell_type": "code",
   "execution_count": 52,
   "metadata": {},
   "outputs": [],
   "source": [
    "m=hl3.create_model(auto_background=False,auto_add_edges=False)"
   ]
  },
  {
   "cell_type": "code",
   "execution_count": 53,
   "metadata": {},
   "outputs": [
    {
     "name": "stdout",
     "output_type": "stream",
     "text": [
      "\n"
     ]
    }
   ],
   "source": [
    "from math import pi\n",
    "expression = \"(h/p*(arctan((p/w)*(x-e))+p/2))+(h/p*(arctan((p/t)*(x-d))+p/2))\"\n",
    "\n",
    "\n",
    "h2=hl3.isig[476.].data\n",
    "h1=hl3.isig[453.].data\n",
    "\n",
    "g3 = hs.model.components1D.Expression(expression=expression,p=pi,w=2,t=2,e=457.5,d=463.0,h=(h2-h1)/2, name=\"fit\")\n",
    "\n",
    "m.extend([g3])\n",
    "   \n",
    "g3.e.free = False\n",
    "g3.p.free = False\n",
    "g3.d.free = False\n",
    "g3.w.free =False\n",
    "g3.t.free =False\n",
    "g3.h.free = True\n"
   ]
  },
  {
   "cell_type": "code",
   "execution_count": 56,
   "metadata": {},
   "outputs": [],
   "source": [
    "m.set_signal_range(473.,477.)"
   ]
  },
  {
   "cell_type": "code",
   "execution_count": 57,
   "metadata": {},
   "outputs": [],
   "source": [
    "m.fit(bounded=True)"
   ]
  },
  {
   "cell_type": "code",
   "execution_count": 58,
   "metadata": {},
   "outputs": [],
   "source": [
    "m.reset_signal_range()"
   ]
  },
  {
   "cell_type": "code",
   "execution_count": 59,
   "metadata": {},
   "outputs": [],
   "source": [
    "m.plot(True)"
   ]
  },
  {
   "cell_type": "code",
   "execution_count": 60,
   "metadata": {},
   "outputs": [],
   "source": [
    "x=m.as_signal(component_list=0)"
   ]
  },
  {
   "cell_type": "code",
   "execution_count": 55,
   "metadata": {},
   "outputs": [],
   "source": [
    "x.plot()"
   ]
  },
  {
   "cell_type": "code",
   "execution_count": 61,
   "metadata": {},
   "outputs": [],
   "source": [
    "hl4=hl3.data-x\n",
    "# mask=hl3.data<0\n",
    "# hl3.data[mask]=0\n",
    "hl4=hs.signals.EELSSpectrum(hl4)\n",
    "hl4.metadata=hl3.metadata\n",
    "hl4.axes_manager=hl3.axes_manager"
   ]
  },
  {
   "cell_type": "code",
   "execution_count": 62,
   "metadata": {},
   "outputs": [],
   "source": [
    "hl4.plot()"
   ]
  },
  {
   "cell_type": "code",
   "execution_count": 63,
   "metadata": {},
   "outputs": [
    {
     "name": "stderr",
     "output_type": "stream",
     "text": [
      "C:\\ProgramData\\Anaconda3\\lib\\site-packages\\hyperspy\\misc\\utils.py:1048: VisibleDeprecationWarning: The `Signal1D.integrate_in_range` method is deprecated and will be removed in v2.0. Use a `roi.SpanRoi` followed by `integrate1D` instead.\n",
      "  warnings.warn(msg, VisibleDeprecationWarning)\n"
     ]
    }
   ],
   "source": [
    "L3=hl4.integrate_in_range(signal_range=(456.5,457.5))\n",
    "L2=hl4.integrate_in_range(signal_range=(465.25,466.25))"
   ]
  },
  {
   "cell_type": "code",
   "execution_count": 64,
   "metadata": {},
   "outputs": [
    {
     "data": {
      "text/plain": [
       "array([2216246.59069359])"
      ]
     },
     "execution_count": 64,
     "metadata": {},
     "output_type": "execute_result"
    }
   ],
   "source": [
    "L2.data"
   ]
  },
  {
   "cell_type": "code",
   "execution_count": 65,
   "metadata": {},
   "outputs": [
    {
     "data": {
      "text/plain": [
       "array([204589.53557769])"
      ]
     },
     "execution_count": 65,
     "metadata": {},
     "output_type": "execute_result"
    }
   ],
   "source": [
    "L3.data"
   ]
  },
  {
   "cell_type": "code",
   "execution_count": 66,
   "metadata": {},
   "outputs": [],
   "source": [
    "x=L2/L3"
   ]
  },
  {
   "cell_type": "code",
   "execution_count": 67,
   "metadata": {},
   "outputs": [
    {
     "data": {
      "text/plain": [
       "array([10.83264882])"
      ]
     },
     "execution_count": 67,
     "metadata": {},
     "output_type": "execute_result"
    }
   ],
   "source": [
    "x.data"
   ]
  },
  {
   "cell_type": "code",
   "execution_count": 68,
   "metadata": {},
   "outputs": [],
   "source": [
    "# hlc.sum().save('Super plot\\C_TiO3_grain1_plot')"
   ]
  },
  {
   "cell_type": "code",
   "execution_count": 69,
   "metadata": {},
   "outputs": [],
   "source": [
    "hl5=hl4/np.max(hl4().data)"
   ]
  },
  {
   "cell_type": "code",
   "execution_count": 70,
   "metadata": {},
   "outputs": [
    {
     "name": "stdout",
     "output_type": "stream",
     "text": [
      "[466.18081814]\n"
     ]
    },
    {
     "data": {
      "text/plain": [
       "Text(466.45, 0.95, 'L2')"
      ]
     },
     "execution_count": 70,
     "metadata": {},
     "output_type": "execute_result"
    }
   ],
   "source": [
    "hs.plot.plot_spectra(hl5)\n",
    "\n",
    "print(hl5.valuemax(axis=-1).data)\n",
    "\n",
    "plt.xlabel('Energy Loss (eV)')\n",
    "plt.ylabel('Norm. Intensity')\n",
    "\n",
    "plt.axvline(455.8, c='r', ls=':', lw=1)\n",
    "plt.axvline(456.8, c='r', ls=':', lw=1)\n",
    "plt.text(x=457., y=.95, s='L3', color='r',fontsize=12)\n",
    "\n",
    "plt.axvline(465.25, c='r', ls=':', lw=1)\n",
    "plt.axvline(466.25, c='r', ls=':', lw=1)\n",
    "plt.text(x=466.45, y=.95, s='L2', color='r',fontsize=12)"
   ]
  },
  {
   "cell_type": "code",
   "execution_count": 72,
   "metadata": {},
   "outputs": [
    {
     "data": {
      "text/plain": [
       "array([18.07148554])"
      ]
     },
     "execution_count": 72,
     "metadata": {},
     "output_type": "execute_result"
    }
   ],
   "source": [
    "L2=hl5.integrate_in_range(signal_range=(465.25,466.25))\n",
    "L2.data"
   ]
  },
  {
   "cell_type": "code",
   "execution_count": null,
   "metadata": {},
   "outputs": [],
   "source": []
  },
  {
   "cell_type": "code",
   "execution_count": null,
   "metadata": {},
   "outputs": [],
   "source": []
  }
 ],
 "metadata": {
  "anaconda-cloud": {},
  "kernelspec": {
   "display_name": "Python 3",
   "language": "python",
   "name": "python3"
  },
  "language_info": {
   "codemirror_mode": {
    "name": "ipython",
    "version": 3
   },
   "file_extension": ".py",
   "mimetype": "text/x-python",
   "name": "python",
   "nbconvert_exporter": "python",
   "pygments_lexer": "ipython3",
   "version": "3.7.4"
  }
 },
 "nbformat": 4,
 "nbformat_minor": 1
}
